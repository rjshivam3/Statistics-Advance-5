{
 "cells": [
  {
   "cell_type": "markdown",
   "id": "a0cf4352-c97e-48ab-b351-46582b6dd998",
   "metadata": {},
   "source": [
    "### Q1. Calculate the 95% confidence interval for a sample of data with a mean of 50 and a standard deviation of 5 using Python. Interpret the results.\n"
   ]
  },
  {
   "cell_type": "code",
   "execution_count": 2,
   "id": "dcdef1d3-7653-4e46-a894-2f938f3e3fcb",
   "metadata": {},
   "outputs": [
    {
     "name": "stdout",
     "output_type": "stream",
     "text": [
      "Q1: The 95% confidence interval for the sample data is: (40.200180077299734, 59.799819922700266)\n"
     ]
    }
   ],
   "source": [
    "import numpy as np\n",
    "import scipy.stats as stats\n",
    "\n",
    "# Sample mean\n",
    "mean = 50\n",
    "# Sample standard deviation\n",
    "std_dev = 5\n",
    "# Sample size\n",
    "n = 1  # Assuming it's a single observation or we don't have the sample size, otherwise n should be specified\n",
    "\n",
    "# Calculate the 95% confidence interval\n",
    "confidence_level = 0.95\n",
    "z_score = stats.norm.ppf(1 - (1 - confidence_level) / 2)\n",
    "margin_of_error = z_score * (std_dev / np.sqrt(n))\n",
    "confidence_interval = (mean - margin_of_error, mean + margin_of_error)\n",
    "\n",
    "print(f\"Q1: The 95% confidence interval for the sample data is: {confidence_interval}\")\n"
   ]
  },
  {
   "cell_type": "markdown",
   "id": "ced78740-a663-47c7-a0ca-333ba45016ed",
   "metadata": {},
   "source": [
    "### Q2. Conduct a chi-square goodness of fit test to determine if the distribution of colors of M&Ms in a bag matches the expected distribution of 20% blue, 20% orange, 20% green, 10% yellow, 10% red, and 20% brown. Use Python to perform the test with a significance level of 0.05.\n"
   ]
  },
  {
   "cell_type": "code",
   "execution_count": 3,
   "id": "5f45d8c1-8156-426c-afe3-ffc7c7fbf49e",
   "metadata": {},
   "outputs": [
    {
     "name": "stdout",
     "output_type": "stream",
     "text": [
      "Q2: Chi-square statistic: 15.0, p-value: 0.010362337915786429\n"
     ]
    }
   ],
   "source": [
    "import numpy as np\n",
    "import scipy.stats as stats\n",
    "\n",
    "observed_frequencies = np.array([35, 40, 30, 20, 10, 15])  # Example observed frequencies\n",
    "expected_proportions = np.array([0.20, 0.20, 0.20, 0.10, 0.10, 0.20])\n",
    "expected_frequencies = expected_proportions * observed_frequencies.sum()\n",
    "\n",
    "chi_square_stat, p_value = stats.chisquare(f_obs=observed_frequencies, f_exp=expected_frequencies)\n",
    "\n",
    "print(f\"Q2: Chi-square statistic: {chi_square_stat}, p-value: {p_value}\")\n"
   ]
  },
  {
   "cell_type": "markdown",
   "id": "59b88350-8c31-4366-9173-90a3e5868125",
   "metadata": {},
   "source": [
    "### Q3. Use Python to calculate the chi-square statistic and p-value for a contingency table with the following data:\n",
    "\n",
    "|              | Group A | Group B |\n",
    "|--------------|---------|---------|\n",
    "| Outcome 1    | 20      | 15      |\n",
    "| Outcome 2    | 10      | 25      |\n",
    "| Outcome 3    | 15      | 20      |\n",
    "\n",
    "Interpret the results of the test.\n"
   ]
  },
  {
   "cell_type": "code",
   "execution_count": 4,
   "id": "c89805a0-f6d6-43e3-81cc-b436155f5221",
   "metadata": {},
   "outputs": [
    {
     "name": "stdout",
     "output_type": "stream",
     "text": [
      "Q3: Chi-square statistic: 5.833333333333334, p-value: 0.05411376622282158, degrees of freedom: 2\n",
      "Expected frequencies: \n",
      "[[15. 20.]\n",
      " [15. 20.]\n",
      " [15. 20.]]\n"
     ]
    }
   ],
   "source": [
    "import numpy as np\n",
    "import scipy.stats as stats\n",
    "\n",
    "contingency_table = np.array([[20, 15], [10, 25], [15, 20]])\n",
    "chi2_stat, p, dof, expected = stats.chi2_contingency(contingency_table)\n",
    "\n",
    "print(f\"Q3: Chi-square statistic: {chi2_stat}, p-value: {p}, degrees of freedom: {dof}\")\n",
    "print(f\"Expected frequencies: \\n{expected}\")\n"
   ]
  },
  {
   "cell_type": "markdown",
   "id": "1bab62f8-0afc-4373-a690-2d37c2e8571c",
   "metadata": {},
   "source": [
    "### Q4. A study of the prevalence of smoking in a population of 500 individuals found that 60 individuals smoked. Use Python to calculate the 95% confidence interval for the true proportion of individuals in the population who smoke.\n"
   ]
  },
  {
   "cell_type": "code",
   "execution_count": 5,
   "id": "3c4c22cd-8469-4a18-a7b4-876d689c19e3",
   "metadata": {},
   "outputs": [
    {
     "name": "stdout",
     "output_type": "stream",
     "text": [
      "Q4: The 95% confidence interval for the proportion of smokers is: (0.09151638887130707, 0.1484836111286929)\n"
     ]
    }
   ],
   "source": [
    "import numpy as np\n",
    "import scipy.stats as stats\n",
    "\n",
    "sample_size = 500\n",
    "number_of_smokers = 60\n",
    "sample_proportion = number_of_smokers / sample_size\n",
    "z_score = stats.norm.ppf(1 - (1 - 0.95) / 2)\n",
    "margin_of_error = z_score * np.sqrt(sample_proportion * (1 - sample_proportion) / sample_size)\n",
    "confidence_interval = (sample_proportion - margin_of_error, sample_proportion + margin_of_error)\n",
    "\n",
    "print(f\"Q4: The 95% confidence interval for the proportion of smokers is: {confidence_interval}\")\n"
   ]
  },
  {
   "cell_type": "markdown",
   "id": "f5e45484-6458-479b-a608-afd8bc0b776f",
   "metadata": {},
   "source": [
    "### Q5. Calculate the 90% confidence interval for a sample of data with a mean of 75 and a standard deviation of 12 using Python. Interpret the results.\n"
   ]
  },
  {
   "cell_type": "code",
   "execution_count": 6,
   "id": "15235c62-ccd2-472e-ab30-ea7a22307e44",
   "metadata": {},
   "outputs": [
    {
     "name": "stdout",
     "output_type": "stream",
     "text": [
      "Q5: The 90% confidence interval for the sample data is: (55.261756476582335, 94.73824352341767)\n"
     ]
    }
   ],
   "source": [
    "import numpy as np\n",
    "import scipy.stats as stats\n",
    "\n",
    "mean = 75\n",
    "std_dev = 12\n",
    "confidence_level = 0.90\n",
    "z_score = stats.norm.ppf(1 - (1 - confidence_level) / 2)\n",
    "margin_of_error = z_score * (std_dev / np.sqrt(n))\n",
    "confidence_interval = (mean - margin_of_error, mean + margin_of_error)\n",
    "\n",
    "print(f\"Q5: The 90% confidence interval for the sample data is: {confidence_interval}\")\n"
   ]
  },
  {
   "cell_type": "markdown",
   "id": "994ad286-9b15-4842-acc1-be941eb10ec2",
   "metadata": {},
   "source": [
    "### Q6. Use Python to plot the chi-square distribution with 10 degrees of freedom. Label the axes and shade the area corresponding to a chi-square statistic of 15.\n"
   ]
  },
  {
   "cell_type": "code",
   "execution_count": 7,
   "id": "487a0297-07fb-405f-aae4-90d749f7ad40",
   "metadata": {},
   "outputs": [
    {
     "data": {
      "image/png": "[encoded data removed]",
      "text/plain": [
       "<Figure size 640x480 with 1 Axes>"
      ]
     },
     "metadata": {},
     "output_type": "display_data"
    }
   ],
   "source": [
    "import numpy as np\n",
    "import scipy.stats as stats\n",
    "import matplotlib.pyplot as plt\n",
    "\n",
    "df = 10\n",
    "x = np.linspace(0, 30, 1000)\n",
    "y = stats.chi2.pdf(x, df)\n",
    "plt.plot(x, y, label='Chi-square distribution with 10 df')\n",
    "plt.fill_between(x, y, where=(x >= 15), color='skyblue', alpha=0.5)\n",
    "plt.axvline(15, color='red', linestyle='--')\n",
    "plt.xlabel('Chi-square value')\n",
    "plt.ylabel('Density')\n",
    "plt.title('Chi-square distribution with 10 degrees of freedom')\n",
    "plt.legend()\n",
    "plt.show()\n"
   ]
  },
  {
   "cell_type": "markdown",
   "id": "71147ca0-72ec-434e-9427-8f0d91273c9d",
   "metadata": {},
   "source": [
    "### Q7. A random sample of 1000 people was asked if they preferred Coke or Pepsi. Of the sample, 520 preferred Coke. Calculate a 99% confidence interval for the true proportion of people in the population who prefer Coke.\n"
   ]
  },
  {
   "cell_type": "code",
   "execution_count": 8,
   "id": "91a52142-0365-48f3-9fdf-c41842f42963",
   "metadata": {},
   "outputs": [
    {
     "name": "stdout",
     "output_type": "stream",
     "text": [
      "Q7: The 99% confidence interval for the proportion of Coke preferers is: (0.4793051576779699, 0.5606948423220302)\n"
     ]
    }
   ],
   "source": [
    "import numpy as np\n",
    "import scipy.stats as stats\n",
    "\n",
    "sample_size = 1000\n",
    "number_of_coke_preferers = 520\n",
    "sample_proportion = number_of_coke_preferers / sample_size\n",
    "confidence_level = 0.99\n",
    "z_score = stats.norm.ppf(1 - (1 - confidence_level) / 2)\n",
    "margin_of_error = z_score * np.sqrt(sample_proportion * (1 - sample_proportion) / sample_size)\n",
    "confidence_interval = (sample_proportion - margin_of_error, sample_proportion + margin_of_error)\n",
    "\n",
    "print(f\"Q7: The 99% confidence interval for the proportion of Coke preferers is: {confidence_interval}\")\n"
   ]
  },
  {
   "cell_type": "markdown",
   "id": "076f912c-4ee5-4f59-b9c9-b34cf2a53e71",
   "metadata": {},
   "source": [
    "### Q8. A researcher hypothesizes that a coin is biased towards tails. They flip the coin 100 times and observe 45 tails. Conduct a chi-square goodness of fit test to determine if the observed frequencies match the expected frequencies of a fair coin. Use a significance level of 0.05.\n"
   ]
  },
  {
   "cell_type": "code",
   "execution_count": 9,
   "id": "d437f267-c082-4872-94e1-d4116825411d",
   "metadata": {},
   "outputs": [
    {
     "name": "stdout",
     "output_type": "stream",
     "text": [
      "Q8: Chi-square statistic: 1.0, p-value: 0.31731050786291115\n"
     ]
    }
   ],
   "source": [
    "import numpy as np\n",
    "import scipy.stats as stats\n",
    "\n",
    "observed_tails = 45\n",
    "expected_tails = 50  # Expected if the coin is fair (100 flips / 2)\n",
    "observed_heads = 55  # 100 flips - 45 tails\n",
    "expected_heads = 50  # Expected if the coin is fair (100 flips / 2)\n",
    "\n",
    "observed_frequencies = np.array([observed_heads, observed_tails])\n",
    "expected_frequencies = np.array([expected_heads, expected_tails])\n",
    "\n",
    "chi_square_stat, p_value = stats.chisquare(f_obs=observed_frequencies, f_exp=expected_frequencies)\n",
    "\n",
    "print(f\"Q8: Chi-square statistic: {chi_square_stat}, p-value: {p_value}\")\n"
   ]
  },
  {
   "cell_type": "markdown",
   "id": "9eac31eb-fa76-40a4-9992-ea3ee4995650",
   "metadata": {},
   "source": [
    "### Q9. A study was conducted to determine if there is an association between smoking status (smoker or non-smoker) and lung cancer diagnosis (yes or no). The results are shown in the contingency table below. Conduct a chi-square test for independence to determine if there is a significant association between smoking status and lung cancer diagnosis.\n",
    "\n",
    "|               | Lung Cancer: Yes | Lung Cancer: No |\n",
    "|---------------|-------------------|------------------|\n",
    "| Smoker        | 60                | 140              |\n",
    "| Non-smoker    | 30                | 170              |\n",
    "\n",
    "Use a significance level of 0.05.\n"
   ]
  },
  {
   "cell_type": "code",
   "execution_count": 10,
   "id": "697d9a24-75fb-4b39-8f22-40dddbf5bb04",
   "metadata": {},
   "outputs": [
    {
     "name": "stdout",
     "output_type": "stream",
     "text": [
      "Q9: Chi-square statistic: 12.057347670250895, p-value: 0.0005158863863703744, degrees of freedom: 1\n",
      "Expected frequencies: \n",
      "[[ 45. 155.]\n",
      " [ 45. 155.]]\n"
     ]
    }
   ],
   "source": [
    "import numpy as np\n",
    "import scipy.stats as stats\n",
    "\n",
    "contingency_table = np.array([[60, 140], [30, 170]])\n",
    "chi2_stat, p, dof, expected = stats.chi2_contingency(contingency_table)\n",
    "\n",
    "print(f\"Q9: Chi-square statistic: {chi2_stat}, p-value: {p}, degrees of freedom: {dof}\")\n",
    "print(f\"Expected frequencies: \\n{expected}\")\n"
   ]
  },
  {
   "cell_type": "markdown",
   "id": "04571f12-61ac-4d2d-aaa5-a51f67984ce9",
   "metadata": {},
   "source": [
    "### Q10. A study was conducted to determine if the proportion of people who prefer milk chocolate, dark chocolate, or white chocolate is different in the U.S. versus the U.K. A random sample of 500 people from the U.S. and a random sample of 500 people from the U.K. were surveyed. The results are shown in the contingency table below. Conduct a chi-square test for independence to determine if there is a significant association between chocolate preference and country of origin.\n",
    "\n",
    "|                  | Milk Chocolate | Dark Chocolate | White Chocolate |\n",
    "|------------------|----------------|----------------|-----------------|\n",
    "| U.S. (n=500)     | 200            | 150            | 150             |\n",
    "| U.K. (n=500)     | 225            | 175            | 100             |\n",
    "\n",
    "Use a significance level of 0.01.\n"
   ]
  },
  {
   "cell_type": "code",
   "execution_count": 11,
   "id": "a5ac8dce-3100-40ae-8b7b-478f61d1696d",
   "metadata": {},
   "outputs": [
    {
     "name": "stdout",
     "output_type": "stream",
     "text": [
      "Q10: Chi-square statistic: 13.393665158371041, p-value: 0.0012348168997745918, degrees of freedom: 2\n",
      "Expected frequencies: \n",
      "[[212.5 162.5 125. ]\n",
      " [212.5 162.5 125. ]]\n"
     ]
    }
   ],
   "source": [
    "import numpy as np\n",
    "import scipy.stats as stats\n",
    "\n",
    "contingency_table = np.array([[200, 150, 150], [225, 175, 100]])\n",
    "chi2_stat, p, dof, expected = stats.chi2_contingency(contingency_table)\n",
    "\n",
    "print(f\"Q10: Chi-square statistic: {chi2_stat}, p-value: {p}, degrees of freedom: {dof}\")\n",
    "print(f\"Expected frequencies: \\n{expected}\")\n"
   ]
  },
  {
   "cell_type": "markdown",
   "id": "c12935d9-8d91-4eab-8e0f-a56e6d63a1c7",
   "metadata": {},
   "source": [
    "### Q11. A random sample of 30 people was selected from a population with an unknown mean and standard deviation. The sample mean was found to be 72 and the sample standard deviation was found to be 10. Conduct a hypothesis test to determine if the population mean is significantly different from 70. Use a significance level of 0.05.\n"
   ]
  },
  {
   "cell_type": "code",
   "execution_count": 12,
   "id": "221f65d3-755b-4c71-b29f-2e3aa506a451",
   "metadata": {},
   "outputs": [
    {
     "name": "stdout",
     "output_type": "stream",
     "text": [
      "Q11: t-statistic: 0.4709849871475541, p-value: 0.6411751601367709\n"
     ]
    }
   ],
   "source": [
    "import numpy as np\n",
    "import scipy.stats as stats\n",
    "\n",
    "sample_mean = 72\n",
    "sample_std_dev = 10\n",
    "sample_size = 30\n",
    "population_mean = 70\n",
    "confidence_level = 0.05\n",
    "\n",
    "# Calculate the t-statistic\n",
    "t_statistic, p_value = stats.ttest_1samp(a=np.random.normal(sample_mean, sample_std_dev, sample_size), popmean=population_mean)\n",
    "\n",
    "print(f\"Q11: t-statistic: {t_statistic}, p-value: {p_value}\")\n"
   ]
  },
  {
   "cell_type": "code",
   "execution_count": null,
   "id": "6a6d1185-966b-4705-aff7-c28e23ba2faa",
   "metadata": {},
   "outputs": [],
   "source": []
  }
 ],
 "metadata": {
  "kernelspec": {
   "display_name": "Python 3 (ipykernel)",
   "language": "python",
   "name": "python3"
  },
  "language_info": {
   "codemirror_mode": {
    "name": "ipython",
    "version": 3
   },
   "file_extension": ".py",
   "mimetype": "text/x-python",
   "name": "python",
   "nbconvert_exporter": "python",
   "pygments_lexer": "ipython3",
   "version": "3.10.8"
  }
 },
 "nbformat": 4,
 "nbformat_minor": 5
}
